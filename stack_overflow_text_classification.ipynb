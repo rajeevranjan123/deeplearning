{
 "cells": [
  {
   "cell_type": "markdown",
   "metadata": {},
   "source": [
    "# stack-overflow-data Classifiation"
   ]
  },
  {
   "cell_type": "code",
   "execution_count": 26,
   "metadata": {},
   "outputs": [],
   "source": [
    "#basic library\n",
    "import numpy as np\n",
    "import pandas as pd\n",
    "\n",
    "#Visualization of data\n",
    "import matplotlib.pyplot as plt\n",
    "import seaborn as sns\n",
    "\n",
    "#deep-learning library\n",
    "import keras\n",
    "import tensorflow as tf\n",
    "\n",
    "\n",
    "from keras.models import Sequential\n",
    "from keras.layers import Dense, Activation, Dropout\n",
    "from sklearn.model_selection import train_test_split\n",
    "from sklearn.preprocessing import LabelEncoder\n",
    "from keras.models import Model\n",
    "from keras.layers import LSTM, Activation, Dense, Dropout, Input, Embedding\n",
    "from keras.optimizers import RMSprop\n",
    "from keras.preprocessing.text import Tokenizer\n",
    "from keras.preprocessing import sequence\n",
    "from keras.utils import to_categorical"
   ]
  },
  {
   "cell_type": "code",
   "execution_count": 79,
   "metadata": {},
   "outputs": [
    {
     "data": {
      "text/html": [
       "<div>\n",
       "<style scoped>\n",
       "    .dataframe tbody tr th:only-of-type {\n",
       "        vertical-align: middle;\n",
       "    }\n",
       "\n",
       "    .dataframe tbody tr th {\n",
       "        vertical-align: top;\n",
       "    }\n",
       "\n",
       "    .dataframe thead th {\n",
       "        text-align: right;\n",
       "    }\n",
       "</style>\n",
       "<table border=\"1\" class=\"dataframe\">\n",
       "  <thead>\n",
       "    <tr style=\"text-align: right;\">\n",
       "      <th></th>\n",
       "      <th>post</th>\n",
       "      <th>tags</th>\n",
       "    </tr>\n",
       "  </thead>\n",
       "  <tbody>\n",
       "    <tr>\n",
       "      <th>0</th>\n",
       "      <td>what is causing this behavior  in our c# datet...</td>\n",
       "      <td>c#</td>\n",
       "    </tr>\n",
       "    <tr>\n",
       "      <th>1</th>\n",
       "      <td>have dynamic html load as if it was in an ifra...</td>\n",
       "      <td>asp.net</td>\n",
       "    </tr>\n",
       "    <tr>\n",
       "      <th>2</th>\n",
       "      <td>how to convert a float value in to min:sec  i ...</td>\n",
       "      <td>objective-c</td>\n",
       "    </tr>\n",
       "    <tr>\n",
       "      <th>3</th>\n",
       "      <td>.net framework 4 redistributable  just wonderi...</td>\n",
       "      <td>.net</td>\n",
       "    </tr>\n",
       "    <tr>\n",
       "      <th>4</th>\n",
       "      <td>trying to calculate and print the mean and its...</td>\n",
       "      <td>python</td>\n",
       "    </tr>\n",
       "    <tr>\n",
       "      <th>5</th>\n",
       "      <td>how to give alias name for my website  i have ...</td>\n",
       "      <td>asp.net</td>\n",
       "    </tr>\n",
       "    <tr>\n",
       "      <th>6</th>\n",
       "      <td>window.open() returns null in angularjs  it wo...</td>\n",
       "      <td>angularjs</td>\n",
       "    </tr>\n",
       "    <tr>\n",
       "      <th>7</th>\n",
       "      <td>identifying server timeout quickly in iphone  ...</td>\n",
       "      <td>iphone</td>\n",
       "    </tr>\n",
       "    <tr>\n",
       "      <th>8</th>\n",
       "      <td>unknown method key  error in rails 2.3.8 unit ...</td>\n",
       "      <td>ruby-on-rails</td>\n",
       "    </tr>\n",
       "    <tr>\n",
       "      <th>9</th>\n",
       "      <td>from the include  how to show and hide the con...</td>\n",
       "      <td>angularjs</td>\n",
       "    </tr>\n",
       "  </tbody>\n",
       "</table>\n",
       "</div>"
      ],
      "text/plain": [
       "                                                post           tags\n",
       "0  what is causing this behavior  in our c# datet...             c#\n",
       "1  have dynamic html load as if it was in an ifra...        asp.net\n",
       "2  how to convert a float value in to min:sec  i ...    objective-c\n",
       "3  .net framework 4 redistributable  just wonderi...           .net\n",
       "4  trying to calculate and print the mean and its...         python\n",
       "5  how to give alias name for my website  i have ...        asp.net\n",
       "6  window.open() returns null in angularjs  it wo...      angularjs\n",
       "7  identifying server timeout quickly in iphone  ...         iphone\n",
       "8  unknown method key  error in rails 2.3.8 unit ...  ruby-on-rails\n",
       "9  from the include  how to show and hide the con...      angularjs"
      ]
     },
     "execution_count": 79,
     "metadata": {},
     "output_type": "execute_result"
    }
   ],
   "source": [
    "df = pd.read_csv(\"..//data//stack-overflow-data.csv\", delimiter=',', encoding='latin-1')\n",
    "df.head(10)"
   ]
  },
  {
   "cell_type": "code",
   "execution_count": 80,
   "metadata": {},
   "outputs": [
    {
     "name": "stdout",
     "output_type": "stream",
     "text": [
      "label\n",
      "Number of language catagory\n"
     ]
    },
    {
     "data": {
      "image/png": "[encoded data removed]",
      "text/plain": [
       "<Figure size 432x288 with 1 Axes>"
      ]
     },
     "metadata": {
      "needs_background": "light"
     },
     "output_type": "display_data"
    }
   ],
   "source": [
    "sns.countplot(df.tags)\n",
    "print(\"label\")\n",
    "print(\"Number of language catagory\")"
   ]
  },
  {
   "cell_type": "code",
   "execution_count": 4,
   "metadata": {},
   "outputs": [
    {
     "data": {
      "text/plain": [
       "c                2000\n",
       "css              2000\n",
       "java             2000\n",
       "sql              2000\n",
       "jquery           2000\n",
       "html             2000\n",
       "ruby-on-rails    2000\n",
       "python           2000\n",
       "objective-c      2000\n",
       "angularjs        2000\n",
       "c++              2000\n",
       ".net             2000\n",
       "iphone           2000\n",
       "c#               2000\n",
       "mysql            2000\n",
       "android          2000\n",
       "javascript       2000\n",
       "ios              2000\n",
       "php              2000\n",
       "asp.net          2000\n",
       "Name: tags, dtype: int64"
      ]
     },
     "execution_count": 4,
     "metadata": {},
     "output_type": "execute_result"
    }
   ],
   "source": [
    "df.tags.value_counts()"
   ]
  },
  {
   "cell_type": "code",
   "execution_count": 83,
   "metadata": {},
   "outputs": [
    {
     "name": "stdout",
     "output_type": "stream",
     "text": [
      "Size of data:  (32000,) (8000,)\n"
     ]
    }
   ],
   "source": [
    "train_size = int(len(df) * .8)\n",
    "train_posts = df['post'][:train_size]\n",
    "train_tags = df['tags'][:train_size]\n",
    "\n",
    "test_posts = df['post'][train_size:]\n",
    "test_tags = df['tags'][train_size:]\n",
    "\n",
    "print(\"Size of data: \", train_posts.shape, test_posts.shape)"
   ]
  },
  {
   "cell_type": "code",
   "execution_count": 84,
   "metadata": {},
   "outputs": [
    {
     "data": {
      "text/plain": [
       "ios              1632\n",
       "mysql            1619\n",
       "python           1618\n",
       "c                1612\n",
       "angularjs        1612\n",
       "css              1611\n",
       ".net             1609\n",
       "asp.net          1608\n",
       "php              1605\n",
       "java             1605\n",
       "c++              1602\n",
       "javascript       1592\n",
       "c#               1591\n",
       "objective-c      1588\n",
       "sql              1588\n",
       "iphone           1586\n",
       "html             1582\n",
       "ruby-on-rails    1581\n",
       "jquery           1581\n",
       "android          1578\n",
       "Name: tags, dtype: int64"
      ]
     },
     "execution_count": 84,
     "metadata": {},
     "output_type": "execute_result"
    }
   ],
   "source": [
    "train_tags.value_counts()"
   ]
  },
  {
   "cell_type": "code",
   "execution_count": 85,
   "metadata": {
    "scrolled": true
   },
   "outputs": [
    {
     "data": {
      "text/plain": [
       "0        what is causing this behavior  in our c# datet...\n",
       "1        have dynamic html load as if it was in an ifra...\n",
       "2        how to convert a float value in to min:sec  i ...\n",
       "3        .net framework 4 redistributable  just wonderi...\n",
       "4        trying to calculate and print the mean and its...\n",
       "5        how to give alias name for my website  i have ...\n",
       "6        window.open() returns null in angularjs  it wo...\n",
       "7        identifying server timeout quickly in iphone  ...\n",
       "8        unknown method key  error in rails 2.3.8 unit ...\n",
       "9        from the include  how to show and hide the con...\n",
       "10       when we need interface c# <blockquote>    <str...\n",
       "11       how to install .ipa on jailbroken iphone over ...\n",
       "12       dynamic textbox text - asp.net  i m trying to ...\n",
       "13       rather than bubblesorting these names...the pr...\n",
       "14       site deployed in d: drive and uploaded files a...\n",
       "15       connection in .net  i got     <blockquote>    ...\n",
       "16       how to subtract 1 from an int  how do i subtra...\n",
       "17       ror console show syntax error  i want to add d...\n",
       "18       distance between 2 or more drop pins  i was do...\n",
       "19       sql query - how to exclude a record from anoth...\n",
       "20       java - hackerrank.com 30 days of code  day 6  ...\n",
       "21       clarification required on responsibility of  $...\n",
       "22       complicated min/max multi-table query  i need ...\n",
       "23       in asp.net mvc4 using javascript  when the but...\n",
       "24       jquery document ready with google  this is how...\n",
       "25       compiling a trusted resource url in angular th...\n",
       "26       syntax error when $eval a string inside a dire...\n",
       "27       delay on a function jquery  i have a hover eff...\n",
       "28       what are all the restrictions by apple for iph...\n",
       "29       objective-c instance variables accessor method...\n",
       "                               ...                        \n",
       "31970    issues with a method in a inventory tracker  t...\n",
       "31971    what was with the historical typedef soup for ...\n",
       "31972    regarding adding start day of week in sql tabl...\n",
       "31973    functioning of append in dictionary   please e...\n",
       "31974    how to center listview footer horizontally  i ...\n",
       "31975    grouping data in one table based on links in a...\n",
       "31976    methods with multiple arguments in objective c...\n",
       "31977    difference of disable form <pre><code>this.ena...\n",
       "31978    javascript myform.action doesn t  i m trying t...\n",
       "31979    objective-c and arc: why value stored to durin...\n",
       "31980    select with multiple conditions from table wit...\n",
       "31981    sql query to remove the duplicates across rows...\n",
       "31982    response.redirect exception  executing the lin...\n",
       "31983    return highest value of a variable(xcode)  obj...\n",
       "31984    re order list like in netflix  i need an algor...\n",
       "31985    iframe variables in php  i ve got an iframe th...\n",
       "31986    ng options select based on object name  i have...\n",
       "31987    what is difference between [pool release] and ...\n",
       "31988    displaying nth row of pascale s triangle  i m ...\n",
       "31989    dataset displayed different result than actual...\n",
       "31990    error when compiling some simple c++ code  i t...\n",
       "31991    how to move a page 50px down  without having s...\n",
       "31992    dynamically typecast from a function that retu...\n",
       "31993    trying to figure how to call function from oth...\n",
       "31994    how to get rid of stray &raquo; character in a...\n",
       "31995    get the date when an item s quanity changes fr...\n",
       "31996    self-created fadein() function not working cor...\n",
       "31997    how to create instance of an aspx page   from ...\n",
       "31998    python crash course 8-15  not defined error  i...\n",
       "31999    strcpy() and strcat() giving errors in initial...\n",
       "Name: post, Length: 32000, dtype: object"
      ]
     },
     "execution_count": 85,
     "metadata": {},
     "output_type": "execute_result"
    }
   ],
   "source": [
    "train_posts"
   ]
  },
  {
   "cell_type": "code",
   "execution_count": 86,
   "metadata": {},
   "outputs": [],
   "source": [
    "max_words = 1000\n",
    "tokenize = Tokenizer(num_words=max_words, filters='!\"#$%&()*+,-./:;<=>?@[\\]^_`{|}~', lower=True)\n",
    "tokenize.fit_on_texts(train_posts) # only fit on train\n",
    "\n",
    "# x_train = tokenize.texts_to_matrix(train_posts)\n",
    "# x_test = tokenize.texts_to_matrix(test_posts)"
   ]
  },
  {
   "cell_type": "code",
   "execution_count": 87,
   "metadata": {},
   "outputs": [],
   "source": [
    "X_train = tokenize.texts_to_matrix(train_posts)\n",
    "X_test = tokenize.texts_to_matrix(test_posts)"
   ]
  },
  {
   "cell_type": "code",
   "execution_count": 88,
   "metadata": {
    "scrolled": true
   },
   "outputs": [
    {
     "data": {
      "text/plain": [
       "array([0., 1., 1., 1., 0., 0., 1., 0., 1., 1., 1., 1., 1., 0., 0., 0., 0.,\n",
       "       0., 0., 1., 0., 0., 0., 0., 1., 0., 0., 1., 0., 0., 0., 0., 0., 0.,\n",
       "       0., 0., 0., 0., 0., 0., 0., 0., 0., 0., 1., 0., 0., 0., 0., 0., 0.,\n",
       "       0., 1., 0., 1., 0., 0., 0., 0., 0., 0., 0., 1., 0., 0., 0., 0., 0.,\n",
       "       0., 1., 0., 0., 0., 0., 1., 0., 0., 0., 0., 0., 0., 0., 0., 0., 1.,\n",
       "       0., 0., 0., 0., 0., 0., 0., 0., 0., 0., 0., 0., 0., 0., 1., 0., 0.,\n",
       "       0., 0., 0., 0., 0., 0., 0., 0., 0., 0., 0., 0., 0., 0., 0., 0., 0.,\n",
       "       0., 0., 0., 0., 0., 1., 0., 0., 0., 0., 0., 0., 0., 0., 0., 0., 0.,\n",
       "       0., 0., 0., 0., 0., 0., 0., 1., 0., 0., 0., 0., 0., 0., 0., 0., 0.,\n",
       "       0., 0., 0., 0., 0., 0., 0., 0., 0., 0., 0., 0., 0., 0., 0., 0., 0.,\n",
       "       0., 0., 0., 0., 1., 1., 0., 0., 0., 0., 0., 0., 0., 0., 0., 0., 0.,\n",
       "       0., 0., 0., 0., 0., 0., 0., 0., 0., 1., 0., 0., 0., 1., 0., 0., 0.,\n",
       "       1., 0., 0., 0., 0., 0., 0., 0., 0., 0., 0., 0., 0., 0., 0., 0., 0.,\n",
       "       0., 0., 0., 0., 0., 0., 0., 0., 0., 0., 0., 0., 0., 0., 0., 0., 0.,\n",
       "       1., 0., 0., 0., 0., 0., 0., 0., 0., 0., 0., 0., 0., 0., 0., 0., 1.,\n",
       "       0., 0., 0., 0., 0., 0., 0., 0., 0., 0., 0., 0., 0., 0., 0., 0., 0.,\n",
       "       0., 0., 0., 0., 0., 0., 0., 0., 0., 0., 0., 0., 0., 0., 0., 0., 0.,\n",
       "       0., 0., 0., 0., 0., 0., 0., 0., 0., 0., 0., 0., 0., 0., 0., 0., 1.,\n",
       "       0., 0., 0., 0., 0., 0., 0., 0., 0., 0., 0., 0., 0., 0., 0., 0., 0.,\n",
       "       0., 0., 0., 0., 0., 0., 0., 0., 0., 0., 0., 0., 0., 0., 0., 0., 0.,\n",
       "       0., 0., 0., 0., 0., 0., 0., 0., 0., 0., 0., 0., 0., 0., 0., 0., 0.,\n",
       "       0., 0., 0., 0., 0., 0., 0., 0., 0., 0., 0., 0., 0., 0., 0., 0., 0.,\n",
       "       0., 0., 0., 0., 0., 0., 0., 0., 0., 0., 0., 0., 0., 0., 0., 0., 0.,\n",
       "       0., 0., 0., 0., 0., 0., 0., 0., 0., 0., 0., 0., 0., 0., 0., 0., 1.,\n",
       "       0., 0., 0., 0., 0., 0., 0., 0., 0., 1., 0., 0., 0., 0., 0., 0., 0.,\n",
       "       0., 0., 0., 0., 0., 0., 0., 0., 0., 0., 0., 0., 0., 0., 0., 0., 0.,\n",
       "       0., 0., 0., 0., 0., 1., 0., 0., 0., 0., 0., 0., 0., 1., 0., 0., 0.,\n",
       "       0., 0., 0., 0., 0., 0., 0., 0., 0., 0., 0., 0., 0., 0., 0., 0., 0.,\n",
       "       0., 0., 0., 0., 0., 0., 0., 0., 0., 0., 0., 0., 0., 0., 0., 0., 0.,\n",
       "       0., 0., 0., 0., 0., 0., 0., 0., 0., 0., 0., 0., 0., 0., 0., 1., 0.,\n",
       "       0., 0., 0., 0., 0., 0., 0., 0., 0., 0., 0., 0., 0., 0., 0., 0., 0.,\n",
       "       0., 0., 0., 0., 0., 0., 0., 0., 0., 0., 0., 0., 0., 0., 0., 0., 0.,\n",
       "       0., 0., 0., 0., 0., 0., 0., 0., 0., 0., 0., 0., 0., 0., 0., 0., 0.,\n",
       "       0., 0., 0., 0., 0., 0., 0., 0., 0., 0., 0., 0., 0., 0., 0., 0., 0.,\n",
       "       0., 0., 0., 0., 0., 0., 0., 0., 0., 0., 0., 0., 0., 0., 0., 0., 0.,\n",
       "       0., 0., 0., 0., 0., 0., 0., 0., 0., 0., 0., 0., 0., 0., 0., 0., 0.,\n",
       "       0., 0., 0., 0., 0., 0., 0., 0., 0., 0., 0., 0., 0., 0., 0., 0., 0.,\n",
       "       0., 0., 0., 0., 0., 1., 0., 0., 0., 0., 0., 0., 0., 0., 0., 0., 0.,\n",
       "       0., 0., 0., 0., 0., 0., 0., 0., 0., 0., 0., 0., 1., 0., 0., 0., 0.,\n",
       "       0., 0., 1., 0., 0., 0., 0., 0., 0., 0., 0., 0., 0., 0., 0., 0., 0.,\n",
       "       0., 0., 0., 0., 0., 0., 0., 0., 0., 0., 0., 0., 0., 0., 0., 0., 0.,\n",
       "       0., 0., 0., 0., 0., 0., 0., 0., 0., 0., 0., 0., 0., 0., 0., 0., 0.,\n",
       "       0., 0., 0., 0., 0., 0., 0., 0., 0., 0., 0., 0., 0., 1., 0., 0., 0.,\n",
       "       1., 0., 0., 0., 0., 0., 0., 0., 0., 0., 0., 0., 0., 0., 0., 0., 0.,\n",
       "       0., 0., 0., 0., 0., 0., 0., 0., 0., 0., 0., 0., 0., 0., 0., 0., 0.,\n",
       "       0., 0., 0., 0., 0., 0., 0., 0., 0., 0., 0., 0., 0., 0., 0., 0., 0.,\n",
       "       0., 0., 1., 0., 0., 0., 0., 0., 0., 0., 0., 0., 0., 0., 0., 0., 0.,\n",
       "       0., 0., 0., 0., 0., 0., 0., 0., 0., 0., 0., 0., 0., 0., 0., 0., 0.,\n",
       "       0., 0., 0., 0., 0., 0., 0., 0., 1., 0., 1., 0., 0., 1., 0., 0., 0.,\n",
       "       0., 0., 0., 0., 0., 0., 0., 0., 0., 0., 1., 0., 0., 0., 0., 0., 0.,\n",
       "       0., 0., 0., 0., 0., 0., 0., 0., 0., 0., 0., 0., 0., 0., 0., 0., 0.,\n",
       "       0., 0., 0., 0., 0., 0., 0., 0., 0., 1., 0., 0., 0., 0., 0., 0., 0.,\n",
       "       0., 0., 0., 0., 0., 0., 0., 0., 0., 0., 0., 0., 0., 0., 0., 0., 0.,\n",
       "       0., 0., 0., 0., 0., 0., 0., 0., 0., 0., 0., 0., 0., 0., 0., 0., 0.,\n",
       "       0., 0., 0., 0., 0., 0., 0., 0., 0., 0., 0., 0., 0., 0., 0., 0., 0.,\n",
       "       0., 0., 0., 0., 0., 0., 0., 0., 0., 0., 0., 0., 0., 0., 0., 0., 0.,\n",
       "       0., 0., 0., 0., 0., 0., 0., 0., 0., 0., 0., 0., 0., 0., 0., 0., 0.,\n",
       "       0., 0., 0., 0., 0., 0., 0., 0., 0., 0., 0., 0., 0., 0., 0., 0., 0.,\n",
       "       0., 0., 0., 0., 0., 0., 0., 0., 0., 0., 0., 0., 0., 0.])"
      ]
     },
     "execution_count": 88,
     "metadata": {},
     "output_type": "execute_result"
    }
   ],
   "source": [
    "X_train[0]"
   ]
  },
  {
   "cell_type": "code",
   "execution_count": 89,
   "metadata": {},
   "outputs": [],
   "source": [
    "encoder = LabelEncoder()\n",
    "encoder.fit(train_tags)\n",
    "\n",
    "y_train = encoder.transform(train_tags)\n",
    "y_test = encoder.transform(test_tags)"
   ]
  },
  {
   "cell_type": "code",
   "execution_count": 90,
   "metadata": {},
   "outputs": [],
   "source": [
    "num_classes = np.max(y_train) + 1\n",
    "\n",
    "y_train = to_categorical(y_train, num_classes)\n",
    "y_test = to_categorical(y_test, num_classes)"
   ]
  },
  {
   "cell_type": "code",
   "execution_count": 202,
   "metadata": {},
   "outputs": [],
   "source": [
    "#build model \n",
    "def classificaon_model():\n",
    "    model =  Sequential()\n",
    "    model.add(Dense(512, input_shape=(max_words,)))\n",
    "    model.add(Activation('relu'))\n",
    "    model.add(Dropout(0.5))\n",
    "#     model.add(Dense(256))\n",
    "#     model.add(Activation('relu'))\n",
    "#     model.add(Dropout(0.2))\n",
    "    model.add(Dense(num_classes))\n",
    "    model.add(Dropout(0.2))\n",
    "    model.add(Activation('softmax'))\n",
    "    \n",
    "    return model"
   ]
  },
  {
   "cell_type": "code",
   "execution_count": 199,
   "metadata": {},
   "outputs": [],
   "source": [
    "#build model \n",
    "def classificaon_model_v1():\n",
    "    model =  Sequential()\n",
    "    model.add(Embedding(input_dim=max_words, input_length = X_train.shape[1], output_dim=num_classes))\n",
    "    model.add(LSTM(100, dropout=0.7, recurrent_dropout=0.7))\n",
    "    model.add(Dense(512, input_shape=(max_words,)))\n",
    "    model.add(Activation('relu'))\n",
    "    model.add(Dropout(0.5))\n",
    "    model.add(Dense(num_classes))\n",
    "    model.add(Activation('softmax'))\n",
    "    \n",
    "    return model"
   ]
  },
  {
   "cell_type": "code",
   "execution_count": 200,
   "metadata": {},
   "outputs": [],
   "source": [
    "def LSTM_model():\n",
    "   # def RNN():\n",
    "    inputs = Input(name='inputs', shape=[max_words])\n",
    "    layer = Embedding(max_words, 50, input_length=max_words)(inputs)\n",
    "    layer = LSTM(64)(layer)\n",
    "    layer = Dense(256, name = 'FC1')(layer)\n",
    "    layer = Activation('relu')(layer)\n",
    "    layer = Dropout(0.5)(layer)\n",
    "    layer = Dense(num_classes, name='out_layer')(layer)\n",
    "    layer = Activation('softmax')(layer)\n",
    "    model = Model(inputs=inputs,outputs=layer)\n",
    "    \n",
    "    return model"
   ]
  },
  {
   "cell_type": "code",
   "execution_count": 186,
   "metadata": {},
   "outputs": [
    {
     "name": "stdout",
     "output_type": "stream",
     "text": [
      "_________________________________________________________________\n",
      "Layer (type)                 Output Shape              Param #   \n",
      "=================================================================\n",
      "dense_31 (Dense)             (None, 512)               512512    \n",
      "_________________________________________________________________\n",
      "activation_39 (Activation)   (None, 512)               0         \n",
      "_________________________________________________________________\n",
      "dropout_24 (Dropout)         (None, 512)               0         \n",
      "_________________________________________________________________\n",
      "dense_32 (Dense)             (None, 256)               131328    \n",
      "_________________________________________________________________\n",
      "activation_40 (Activation)   (None, 256)               0         \n",
      "_________________________________________________________________\n",
      "dropout_25 (Dropout)         (None, 256)               0         \n",
      "_________________________________________________________________\n",
      "dense_33 (Dense)             (None, 20)                5140      \n",
      "_________________________________________________________________\n",
      "dropout_26 (Dropout)         (None, 20)                0         \n",
      "_________________________________________________________________\n",
      "activation_41 (Activation)   (None, 20)                0         \n",
      "=================================================================\n",
      "Total params: 648,980\n",
      "Trainable params: 648,980\n",
      "Non-trainable params: 0\n",
      "_________________________________________________________________\n"
     ]
    }
   ],
   "source": [
    "model = classificaon_model() #LSTM_model()\n",
    "model.compile(loss = 'categorical_crossentropy', optimizer='adam', metrics=['accuracy'])\n",
    "\n",
    "model.summary()"
   ]
  },
  {
   "cell_type": "code",
   "execution_count": 187,
   "metadata": {},
   "outputs": [
    {
     "name": "stdout",
     "output_type": "stream",
     "text": [
      "Shape of data: (32000, 1000) (32000, 20) (8000, 1000) (8000, 20)\n"
     ]
    }
   ],
   "source": [
    "print(\"Shape of data:\", X_train.shape, y_train.shape, X_test.shape, y_test.shape)"
   ]
  },
  {
   "cell_type": "code",
   "execution_count": 188,
   "metadata": {},
   "outputs": [],
   "source": [
    "batch_size = 128\n",
    "epochs = 20"
   ]
  },
  {
   "cell_type": "code",
   "execution_count": null,
   "metadata": {},
   "outputs": [
    {
     "name": "stdout",
     "output_type": "stream",
     "text": [
      "Train on 32000 samples, validate on 8000 samples\n",
      "Epoch 1/20\n",
      "32000/32000 [==============================] - 4s 118us/step - loss: 0.1479 - acc: 0.9280 - val_loss: 1.4234 - val_acc: 0.7987\n",
      "Epoch 2/20\n",
      "32000/32000 [==============================] - 4s 115us/step - loss: 0.1466 - acc: 0.9311 - val_loss: 1.4163 - val_acc: 0.7960\n",
      "Epoch 3/20\n",
      "32000/32000 [==============================] - 4s 115us/step - loss: 0.1492 - acc: 0.9298 - val_loss: 1.4209 - val_acc: 0.7980\n",
      "Epoch 4/20\n",
      "32000/32000 [==============================] - 4s 116us/step - loss: 0.1462 - acc: 0.9313 - val_loss: 1.4289 - val_acc: 0.7994\n",
      "Epoch 5/20\n",
      "32000/32000 [==============================] - 4s 114us/step - loss: 0.1413 - acc: 0.9318 - val_loss: 1.4503 - val_acc: 0.8024\n",
      "Epoch 6/20\n",
      "32000/32000 [==============================] - 4s 113us/step - loss: 0.1404 - acc: 0.9333 - val_loss: 1.4194 - val_acc: 0.7995\n",
      "Epoch 7/20\n",
      "32000/32000 [==============================] - 4s 114us/step - loss: 0.1465 - acc: 0.9307 - val_loss: 1.4069 - val_acc: 0.8006\n",
      "Epoch 8/20\n",
      "32000/32000 [==============================] - 4s 115us/step - loss: 0.1458 - acc: 0.9311 - val_loss: 1.4394 - val_acc: 0.8017\n",
      "Epoch 9/20\n",
      "32000/32000 [==============================] - 4s 118us/step - loss: 0.1460 - acc: 0.9319 - val_loss: 1.4444 - val_acc: 0.7989\n",
      "Epoch 10/20\n",
      "32000/32000 [==============================] - 4s 133us/step - loss: 0.1437 - acc: 0.9304 - val_loss: 1.4487 - val_acc: 0.7995\n",
      "Epoch 11/20\n",
      "32000/32000 [==============================] - 4s 128us/step - loss: 0.1457 - acc: 0.9304 - val_loss: 1.4272 - val_acc: 0.8013\n",
      "Epoch 12/20\n",
      "32000/32000 [==============================] - 4s 120us/step - loss: 0.1436 - acc: 0.9327 - val_loss: 1.4332 - val_acc: 0.8017\n",
      "Epoch 13/20\n",
      "32000/32000 [==============================] - 4s 117us/step - loss: 0.1435 - acc: 0.9309 - val_loss: 1.4467 - val_acc: 0.8005\n",
      "Epoch 14/20\n",
      "32000/32000 [==============================] - 4s 120us/step - loss: 0.1414 - acc: 0.9312 - val_loss: 1.4309 - val_acc: 0.7995\n",
      "Epoch 15/20\n",
      "32000/32000 [==============================] - 4s 117us/step - loss: 0.1386 - acc: 0.9342 - val_loss: 1.4811 - val_acc: 0.7994\n",
      "Epoch 16/20\n",
      "32000/32000 [==============================] - 4s 119us/step - loss: 0.1386 - acc: 0.9329 - val_loss: 1.4835 - val_acc: 0.7995\n",
      "Epoch 17/20\n",
      "20608/32000 [==================>...........] - ETA: 1s - loss: 0.1382 - acc: 0.9334"
     ]
    }
   ],
   "source": [
    "#history = model.fit(X_train, y_train, batch_size=batch_size, epochs=epochs, verbose=1, validation_split=0.1)\n",
    "history = model.fit(X_train, y_train, validation_data=(X_test, y_test), epochs=20, batch_size=batch_size, shuffle=True)"
   ]
  },
  {
   "cell_type": "code",
   "execution_count": 195,
   "metadata": {},
   "outputs": [
    {
     "name": "stdout",
     "output_type": "stream",
     "text": [
      "8000/8000 [==============================] - 0s 24us/step\n",
      "Test accuracy: 0.80025\n"
     ]
    }
   ],
   "source": [
    "score = model.evaluate(X_test, y_test, batch_size=batch_size, verbose=1)\n",
    "print('Test accuracy:', score[1])"
   ]
  },
  {
   "cell_type": "code",
   "execution_count": 196,
   "metadata": {},
   "outputs": [
    {
     "data": {
      "image/png": "[encoded data removed]",
      "text/plain": [
       "<Figure size 432x288 with 1 Axes>"
      ]
     },
     "metadata": {
      "needs_background": "light"
     },
     "output_type": "display_data"
    },
    {
     "data": {
      "image/png": "[encoded data removed]",
      "text/plain": [
       "<Figure size 432x288 with 1 Axes>"
      ]
     },
     "metadata": {
      "needs_background": "light"
     },
     "output_type": "display_data"
    }
   ],
   "source": [
    "#accuracy visulatization\n",
    "import matplotlib.pyplot as plt\n",
    "\n",
    "acc = history.history['acc']\n",
    "val_acc = history.history['val_acc']\n",
    "loss = history.history['loss']\n",
    "val_loss = history.history['val_loss']\n",
    "\n",
    "epochs = range(1, len(acc) + 1)\n",
    "\n",
    "plt.plot(epochs, acc, 'bo', label='Training acc')\n",
    "plt.plot(epochs, val_acc, 'b', label='Validation acc')\n",
    "plt.title('Training and validation accuracy')\n",
    "plt.legend()\n",
    "\n",
    "plt.figure()\n",
    "\n",
    "plt.plot(epochs, loss, 'bo', label='Training loss')\n",
    "plt.plot(epochs, val_loss, 'b', label='Validation loss')\n",
    "plt.title('Training and validation loss')\n",
    "plt.legend()\n",
    "\n",
    "plt.show()"
   ]
  },
  {
   "cell_type": "code",
   "execution_count": 197,
   "metadata": {},
   "outputs": [
    {
     "name": "stdout",
     "output_type": "stream",
     "text": [
      "[[1.79389417e-07 1.71590809e-17 6.03169070e-15 9.99999762e-01\n",
      "  9.64588216e-18 1.43245944e-17 5.35732623e-18 5.83492170e-18\n",
      "  2.43728160e-13 1.04259416e-18 1.09316595e-20 2.99237395e-19\n",
      "  1.15467293e-16 1.25484602e-14 2.66928669e-15 1.32472626e-19\n",
      "  2.06976363e-14 4.97909414e-21 1.74918321e-18 5.88600552e-14]] class: 3\n"
     ]
    }
   ],
   "source": [
    "#real evulation\n",
    "txt = [\"Dot net core open source web framework, that which has more performance than ASP.NET. It developed and implemented by Microsoft community. Subsequently it is a expandable and runs on .NET framework and cross platform .NET core.\"]\n",
    "seq = tokenize.texts_to_matrix(txt)\n",
    "pred = model.predict(seq)\n",
    "print(pred, \"class:\", np.argmax(pred))"
   ]
  },
  {
   "cell_type": "code",
   "execution_count": 193,
   "metadata": {},
   "outputs": [
    {
     "data": {
      "text/plain": [
       "{'.net',\n",
       " 'android',\n",
       " 'angularjs',\n",
       " 'asp.net',\n",
       " 'c',\n",
       " 'c#',\n",
       " 'c++',\n",
       " 'css',\n",
       " 'html',\n",
       " 'ios',\n",
       " 'iphone',\n",
       " 'java',\n",
       " 'javascript',\n",
       " 'jquery',\n",
       " 'mysql',\n",
       " 'objective-c',\n",
       " 'php',\n",
       " 'python',\n",
       " 'ruby-on-rails',\n",
       " 'sql'}"
      ]
     },
     "execution_count": 193,
     "metadata": {},
     "output_type": "execute_result"
    }
   ],
   "source": [
    "set(test_tags)"
   ]
  },
  {
   "cell_type": "code",
   "execution_count": null,
   "metadata": {},
   "outputs": [],
   "source": []
  }
 ],
 "metadata": {
  "kernelspec": {
   "display_name": "Python 3",
   "language": "python",
   "name": "python3"
  },
  "language_info": {
   "codemirror_mode": {
    "name": "ipython",
    "version": 3
   },
   "file_extension": ".py",
   "mimetype": "text/x-python",
   "name": "python",
   "nbconvert_exporter": "python",
   "pygments_lexer": "ipython3",
   "version": "3.7.3"
  }
 },
 "nbformat": 4,
 "nbformat_minor": 2
}
